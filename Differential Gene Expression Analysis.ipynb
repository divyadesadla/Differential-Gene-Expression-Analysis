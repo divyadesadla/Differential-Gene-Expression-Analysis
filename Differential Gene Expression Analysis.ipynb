{
 "cells": [
  {
   "cell_type": "code",
   "execution_count": 2,
   "metadata": {},
   "outputs": [],
   "source": [
    "getwd()"
   ]
  },
  {
   "cell_type": "code",
   "execution_count": null,
   "metadata": {},
   "outputs": [],
   "source": [
    "setwd('C:/Users/rssch/Desktop/classes/Data Analysis Class 2019/Module 1'"
   ]
  },
  {
   "cell_type": "code",
   "execution_count": null,
   "metadata": {},
   "outputs": [],
   "source": [
    "tbrData <- read.delim(\"TbrMappedCountMatrix.txt\",row.names=\"Gene\""
   ]
  },
  {
   "cell_type": "code",
   "execution_count": null,
   "metadata": {},
   "outputs": [],
   "source": [
    "head(tbrData)"
   ]
  },
  {
   "cell_type": "code",
   "execution_count": null,
   "metadata": {},
   "outputs": [],
   "source": [
    "head(tbrData,25)"
   ]
  },
  {
   "cell_type": "code",
   "execution_count": null,
   "metadata": {},
   "outputs": [],
   "source": [
    "summary(tbrData)"
   ]
  },
  {
   "cell_type": "code",
   "execution_count": null,
   "metadata": {},
   "outputs": [],
   "source": [
    "dim(tbrData)"
   ]
  },
  {
   "cell_type": "code",
   "execution_count": null,
   "metadata": {},
   "outputs": [],
   "source": [
    "tbrData <- tbrData[substr(row.names(tbrData),1,3)==\"PMI\",];\n",
    "dim(tbrData)"
   ]
  },
  {
   "cell_type": "code",
   "execution_count": null,
   "metadata": {},
   "outputs": [],
   "source": [
    "tbrDataLogNorm <- tbrData\n",
    "for (i in 1:dim(tbrData)[1]) \n",
    "{\n",
    " tbrDataLogNorm[i,] <- log((as.numeric(tbrData[i,])+0.1)/mean(as.numeric(tbrData[i,])+0.1))\n",
    "}"
   ]
  },
  {
   "cell_type": "code",
   "execution_count": null,
   "metadata": {},
   "outputs": [],
   "source": [
    "dim(tbrDataLogNorm)\n",
    "dim(tbrData)"
   ]
  },
  {
   "cell_type": "code",
   "execution_count": null,
   "metadata": {},
   "outputs": [],
   "source": [
    "summary(tbrDataLogNorm)"
   ]
  },
  {
   "cell_type": "code",
   "execution_count": null,
   "metadata": {},
   "outputs": [],
   "source": [
    "tbrDataLogNorm[\"PMI_005206\",]\n",
    "t.test(x=tbrDataLogNorm[\"PMI_005206\",c(\"Control1\",\"Control2\",\"Control3\")],\n",
    "       y=tbrDataLogNorm[\"PMI_005206\",c(\"Tbr1\",\"Tbr2\",\"Tbr3\")],var.equal=TRUE)$p.value"
   ]
  },
  {
   "cell_type": "code",
   "execution_count": null,
   "metadata": {},
   "outputs": [],
   "source": [
    "pvalue <- 0.01\n",
    "significantGenes <- c()\n",
    "for (i in 1:dim(tbrData)[1])\n",
    "{\n",
    " if (sum(tbrData[i,c(\"Control1\",\"Control2\",\"Control3\")])>10 &&   \n",
    "    sum(tbrData[i,c(\"Tbr1\",\"Tbr2\",\"Tbr3\")])>10)\n",
    " {\n",
    "  if (t.test(x=tbrDataLogNorm[i,c(\"Control1\",\"Control2\",\"Control3\")],\n",
    "              y=tbrDataLogNorm[i,c(\"Tbr1\",\"Tbr2\",\"Tbr3\")],\n",
    "              var.equal=TRUE)$p.value < pvalue)\n",
    "  {significantGenes <-  append(significantGenes,rownames(tbrDataLogNorm[i,]))}\n",
    " }\n",
    "}"
   ]
  },
  {
   "cell_type": "code",
   "execution_count": null,
   "metadata": {},
   "outputs": [],
   "source": [
    "length(significantGenes)"
   ]
  },
  {
   "cell_type": "code",
   "execution_count": null,
   "metadata": {},
   "outputs": [],
   "source": [
    "head(significantGenes)"
   ]
  },
  {
   "cell_type": "code",
   "execution_count": null,
   "metadata": {},
   "outputs": [],
   "source": [
    "t.test(x=tbrDataLogNorm[\"PMI_001926\",c(\"Control1\",\"Control2\",\"Control3\")],y=tbrDataLogNorm[\"PMI_001926\",c(\"Tbr1\",\"Tbr2\",\"Tbr3\")],var.equal=TRUE)$p.value"
   ]
  },
  {
   "cell_type": "code",
   "execution_count": null,
   "metadata": {},
   "outputs": [],
   "source": [
    "pvalue <- 0.01\n",
    "significantGenes <- c()\n",
    "for (i in 1:dim(tbrData)[1])\n",
    "{\n",
    " if (sum(tbrData[i,c(\"Control1\",\"Control2\",\"Control3\")])>10 &&   \n",
    "    sum(tbrData[i,c(\"Tbr1\",\"Tbr2\",\"Tbr3\")])>10)\n",
    " {\n",
    "  if(t.test(x=tbrDataLogNorm[i,c(\"Control1\",\"Control2\",\"Control3\")],\n",
    "     y=tbrDataLogNorm[i,c(\"Tbr1\",\"Tbr2\",\"Tbr3\")],\n",
    "     var.equal=TRUE)$p.value < pvalue/dim(tbrDataLogNorm)[1])\n",
    " {\n",
    "  significantGenes <- \n",
    "   append(significantGenes,rownames(tbrDataLogNorm[i,]))}\n",
    " }\n",
    "}\n",
    " \n",
    "length(significantGenes)"
   ]
  },
  {
   "cell_type": "code",
   "execution_count": null,
   "metadata": {},
   "outputs": [],
   "source": [
    "if (!requireNamespace(\"BiocManager\", quietly = TRUE))\n",
    "    install.packages(\"BiocManager\")\n",
    "BiocManager::install()\n",
    "\n",
    "BiocManager::install(c(\"GenomicFeatures\", \"AnnotationDbi\"))\n",
    "BiocManager::install(c(\"edgeR\"))a\n",
    "BiocManager::install(c(\"DESeq\"))"
   ]
  },
  {
   "cell_type": "code",
   "execution_count": null,
   "metadata": {},
   "outputs": [],
   "source": [
    "library(\"edgeR\")"
   ]
  },
  {
   "cell_type": "code",
   "execution_count": null,
   "metadata": {},
   "outputs": [],
   "source": [
    "tbrData <- read.delim(\"TbrMappedCountMatrix.txt\",row.names=\"Gene\")"
   ]
  },
  {
   "cell_type": "code",
   "execution_count": null,
   "metadata": {},
   "outputs": [],
   "source": [
    "tbrDataTrimmed <- subset(tbrData,(Control1>5)+(Control2>5)+(Control3>5)+(Tbr1>5)+(Tbr2>5)+(Tbr3>5)>2)"
   ]
  },
  {
   "cell_type": "code",
   "execution_count": null,
   "metadata": {},
   "outputs": [],
   "source": [
    "dim(tbrDataTrimmed)"
   ]
  },
  {
   "cell_type": "code",
   "execution_count": null,
   "metadata": {},
   "outputs": [],
   "source": [
    "head(tbrDataTrimmed,25)"
   ]
  },
  {
   "cell_type": "code",
   "execution_count": null,
   "metadata": {},
   "outputs": [],
   "source": [
    "summary(tbrDataTrimmed)"
   ]
  },
  {
   "cell_type": "code",
   "execution_count": null,
   "metadata": {},
   "outputs": [],
   "source": [
    "group <- factor(c(1,1,1,2,2,2))\n",
    "design <- model.matrix(~group)"
   ]
  },
  {
   "cell_type": "code",
   "execution_count": null,
   "metadata": {},
   "outputs": [],
   "source": [
    "dge <- DGEList(counts=tbrDataTrimmed,group=group)"
   ]
  },
  {
   "cell_type": "code",
   "execution_count": null,
   "metadata": {},
   "outputs": [],
   "source": [
    "dge <- calcNormFactors(dge)"
   ]
  },
  {
   "cell_type": "code",
   "execution_count": null,
   "metadata": {},
   "outputs": [],
   "source": [
    "dge <- estimateDisp(dge,design)"
   ]
  },
  {
   "cell_type": "code",
   "execution_count": null,
   "metadata": {},
   "outputs": [],
   "source": [
    "fit <- glmFit(dge,design)"
   ]
  },
  {
   "cell_type": "code",
   "execution_count": null,
   "metadata": {},
   "outputs": [],
   "source": [
    "lrt <- glmLRT(fit,coef=2)\n",
    "lrt"
   ]
  },
  {
   "cell_type": "code",
   "execution_count": null,
   "metadata": {},
   "outputs": [],
   "source": [
    "lrt[\"PMI_005206\",]$table"
   ]
  },
  {
   "cell_type": "code",
   "execution_count": null,
   "metadata": {},
   "outputs": [],
   "source": [
    "t.test(x=tbrDataLogNorm[\"PMI_005206\",c(\"Control1\",\"Control2\",\"Control3\")],y=tbrDataLogNorm[\"PMI_005206\",c(\"Tbr1\",\"Tbr2\",\"Tbr3\")],var.equal=TRUE)$p.value"
   ]
  },
  {
   "cell_type": "code",
   "execution_count": null,
   "metadata": {},
   "outputs": [],
   "source": [
    "topTags(lrt)"
   ]
  },
  {
   "cell_type": "code",
   "execution_count": null,
   "metadata": {},
   "outputs": [],
   "source": [
    "t.test(x=tbrDataLogNorm[\"PMI_007921\",c(\"Control1\",\"Control2\",\"Control3\")],y=tbrDataLogNorm[\"PMI_007921\",c(\"Tbr1\",\"Tbr2\",\"Tbr3\")],var.equal=TRUE)$p.value"
   ]
  },
  {
   "cell_type": "code",
   "execution_count": null,
   "metadata": {},
   "outputs": [],
   "source": [
    "tbrDataTrimmed[\"PMI_007921\",]\n",
    "tbrDataTrimmed[\"PMI_027270\",]\n",
    "tbrDataTrimmed[\"PMI_011495\",]"
   ]
  },
  {
   "cell_type": "code",
   "execution_count": null,
   "metadata": {},
   "outputs": [],
   "source": [
    "edgeResults <- topTags(lrt,n=10000,p.value=0.01/dim(tbrData)[1])"
   ]
  },
  {
   "cell_type": "code",
   "execution_count": null,
   "metadata": {},
   "outputs": [],
   "source": [
    "dim(edgeResults)"
   ]
  },
  {
   "cell_type": "code",
   "execution_count": null,
   "metadata": {},
   "outputs": [],
   "source": [
    "write.table(rownames(edgeResults),\"significantTbrGenes.txt\")\n",
    "write.table(rownames(edgeResults),\"significantTbrGeneNames.txt\",col.names=FALSE,row.names=FALSE,quote=FALSE)"
   ]
  }
 ],
 "metadata": {
  "kernelspec": {
   "display_name": "Python 3",
   "language": "python",
   "name": "python3"
  },
  "language_info": {
   "codemirror_mode": {
    "name": "ipython",
    "version": 3
   },
   "file_extension": ".py",
   "mimetype": "text/x-python",
   "name": "python",
   "nbconvert_exporter": "python",
   "pygments_lexer": "ipython3",
   "version": "3.7.4"
  },
  "toc": {
   "base_numbering": 1,
   "nav_menu": {},
   "number_sections": true,
   "sideBar": true,
   "skip_h1_title": false,
   "title_cell": "Table of Contents",
   "title_sidebar": "Contents",
   "toc_cell": false,
   "toc_position": {},
   "toc_section_display": true,
   "toc_window_display": false
  }
 },
 "nbformat": 4,
 "nbformat_minor": 2
}
